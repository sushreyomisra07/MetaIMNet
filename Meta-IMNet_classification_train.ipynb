{
 "cells": [
  {
   "cell_type": "markdown",
   "id": "95fa3fcf-db56-42e9-9de1-ac92cd669120",
   "metadata": {},
   "source": [
    "# Neural Network for Time-Stepping Prediction of Buildings"
   ]
  },
  {
   "cell_type": "code",
   "execution_count": 1,
   "id": "c320151f-e1bf-498b-804a-4fda1d042832",
   "metadata": {},
   "outputs": [],
   "source": [
    "from PIL import Image\n",
    "\n",
    "import numpy as np\n",
    "import torch\n",
    "import torch.nn as nn\n",
    "import torch.optim as optim\n",
    "# import torch.utils.data as data_utils\n",
    "import os\n",
    "import timeit\n",
    "\n",
    "import matplotlib.pyplot as plt\n",
    "import pandas as pd\n",
    "import random\n",
    "import seaborn as sn\n",
    "from sklearn.metrics import accuracy_score, confusion_matrix, roc_auc_score, roc_curve\n",
    "\n",
    "from sklearn.preprocessing import StandardScaler\n",
    "\n",
    "from metaimnet import *"
   ]
  },
  {
   "cell_type": "markdown",
   "id": "2046a8c3-c9a1-4426-bcc0-48fe2fde97a9",
   "metadata": {},
   "source": [
    "## Set Inputs"
   ]
  },
  {
   "cell_type": "code",
   "execution_count": 2,
   "id": "01995778-075c-4fac-bd82-ab5b8a0b0a05",
   "metadata": {},
   "outputs": [],
   "source": [
    "seed = 7               # Set seed. Keep this constant for reproducibility.\n",
    "n_samples = 10000      # How many samples do we keep for training + validation (rest will be used for testing)\n",
    "num_metaims = 5        # How many meta-IMs do we want to extract from the hazard time history?"
   ]
  },
  {
   "cell_type": "code",
   "execution_count": 3,
   "id": "d8db6b97-6c17-46a3-9ca3-a30cc8dd69e4",
   "metadata": {},
   "outputs": [],
   "source": [
    "path_to_predictor_dataset = '../RC_Frame_large/predictors.parquet'           # Set the path to your analysis data file (csv/parquet)\n",
    "path_to_processed_time_histories = '../RC_Frame_large/x_gm'                  # Set the path to your ground motions file"
   ]
  },
  {
   "cell_type": "markdown",
   "id": "d3244f68-1f9c-45ed-b6d2-8e41361c68b4",
   "metadata": {},
   "source": [
    "## Read Inputs"
   ]
  },
  {
   "cell_type": "code",
   "execution_count": 4,
   "id": "2c88a728-2283-471e-8f31-9d216d50e76c",
   "metadata": {},
   "outputs": [],
   "source": [
    "cols2read = ['storeys', 'bays', 'storey_ht', 'bay_width', 'w_floor', \n",
    "             'f_c', 'gm_index', 'pga', 'tip_displacement']\n",
    "\n",
    "predictors_all = pd.read_parquet(path_to_predictor_dataset, columns = cols2read, engine = 'pyarrow')\n",
    "\n",
    "# Eliminate Outliers\n",
    "predictors_all = predictors_all[predictors_all['tip_displacement']<48].reset_index(drop = True)\n",
    "\n",
    "predictors_all['building_ht'] = predictors_all['storeys'] * predictors_all['storey_ht']\n",
    "predictors_all['building_width'] = predictors_all['bays'] * predictors_all['bay_width']"
   ]
  },
  {
   "cell_type": "markdown",
   "id": "5f996928-9f35-4a0b-ab20-92d282734b3b",
   "metadata": {},
   "source": [
    "We assume the collapse capacity of the building to be 12 inches"
   ]
  },
  {
   "cell_type": "code",
   "execution_count": 5,
   "id": "c60c48cf-0f29-4431-9673-1972cb336b12",
   "metadata": {},
   "outputs": [],
   "source": [
    "capacity = 12\n",
    "predictors_all['capacity'] = capacity\n",
    "predictors_all['damage_state'] = 0\n",
    "\n",
    "predictors_all.loc[predictors_all['tip_displacement']>predictors_all['capacity'], 'damage_state'] = 1\n",
    "\n",
    "predictors_all = predictors_all.drop(columns = ['storeys', 'storey_ht', 'bays', 'bay_width', 'capacity'])"
   ]
  },
  {
   "cell_type": "markdown",
   "id": "c7c3ee89-e071-401e-9370-39aac1e78ff8",
   "metadata": {},
   "source": [
    "## Prepare training data"
   ]
  },
  {
   "cell_type": "code",
   "execution_count": 6,
   "id": "36b322f6-94fa-4343-9c9b-01669475468d",
   "metadata": {},
   "outputs": [],
   "source": [
    "train_data, val_data, test_data = create_train_val_test_splits(predictors_all, \n",
    "                                                               n_samples = n_samples, \n",
    "                                                               split_frac = 0.9, \n",
    "                                                               random_seed = seed)\n",
    "\n",
    "cols2scale = ['building_ht', 'building_width', 'w_floor', 'f_c']\n",
    "cols_predicted = ['damage_state']\n",
    "\n",
    "x_train_scaled, x_val_scaled, x_test_scaled, y_data, y_val, y_test = create_scaled_inputs_outputs(train_data, \n",
    "                                                                                                  val_data, \n",
    "                                                                                                  test_data, \n",
    "                                                                                                  cols2scale)\n"
   ]
  },
  {
   "cell_type": "markdown",
   "id": "609941bc-ae2c-4f52-9a34-eaf6631fc5f0",
   "metadata": {},
   "source": [
    "## Prepare ground motion features"
   ]
  },
  {
   "cell_type": "code",
   "execution_count": 7,
   "id": "b5b97587-6da5-48dd-8d23-bad1fa42e540",
   "metadata": {},
   "outputs": [],
   "source": [
    "x_th_all = torch.load(path_to_processed_time_histories)"
   ]
  },
  {
   "cell_type": "code",
   "execution_count": 8,
   "id": "3ed6601b-9bf1-4eea-a0ad-9d4ec6203eb3",
   "metadata": {},
   "outputs": [],
   "source": [
    "train_data, val_data, test_data, x_th, x_th_val, x_th_test = split_ground_motions(x_th_all, \n",
    "                                                                                  train_data, \n",
    "                                                                                  val_data, \n",
    "                                                                                  test_data)"
   ]
  },
  {
   "cell_type": "code",
   "execution_count": 9,
   "id": "224a7ade-4ae4-4426-b414-5b245205e1d9",
   "metadata": {},
   "outputs": [],
   "source": [
    "del x_th_all"
   ]
  },
  {
   "cell_type": "markdown",
   "id": "4ba77a05-07cb-4aec-850e-6b4b9dd3f3a2",
   "metadata": {},
   "source": [
    "## Train Meta-IMNet"
   ]
  },
  {
   "cell_type": "code",
   "execution_count": 10,
   "id": "e2013f5c-9307-41cd-bd28-f48e07d11172",
   "metadata": {},
   "outputs": [
    {
     "name": "stdout",
     "output_type": "stream",
     "text": [
      "Epoch 1: Training BCE Loss 0.8408, Validation BCE Loss 0.8378\n",
      "Epoch 50: Training BCE Loss 0.8099, Validation BCE Loss 0.8111\n",
      "Epoch 100: Training BCE Loss 0.7121, Validation BCE Loss 0.7067\n",
      "Epoch 150: Training BCE Loss 0.6047, Validation BCE Loss 0.5858\n",
      "Epoch 200: Training BCE Loss 0.5104, Validation BCE Loss 0.5158\n",
      "Epoch 250: Training BCE Loss 0.4467, Validation BCE Loss 0.4617\n",
      "Epoch 300: Training BCE Loss 0.4115, Validation BCE Loss 0.4407\n",
      "Epoch 350: Training BCE Loss 0.3850, Validation BCE Loss 0.4304\n",
      "Epoch 400: Training BCE Loss 0.3654, Validation BCE Loss 0.4322\n",
      "Epoch 450: Training BCE Loss 0.3410, Validation BCE Loss 0.4183\n",
      "Epoch 500: Training BCE Loss 0.3251, Validation BCE Loss 0.4124\n",
      "Time Elapsed in Model Training:  540.6876610317267\n"
     ]
    }
   ],
   "source": [
    "max_epochs = 500\n",
    "interval = 50\n",
    "\n",
    "start = timeit.default_timer()\n",
    "model1, model2 = train_metaimnet_model(x_train_scaled, \n",
    "                                       x_val_scaled, \n",
    "                                       y_data, \n",
    "                                       y_val, \n",
    "                                       x_th, \n",
    "                                       x_th_val, \n",
    "                                       train_data, \n",
    "                                       val_data, \n",
    "                                       cols2scale,\n",
    "                                       num_metaims,\n",
    "                                       max_epochs,\n",
    "                                       interval,\n",
    "                                       seed)\n",
    "\n",
    "stop = timeit.default_timer()\n",
    "\n",
    "print('Time Elapsed in Model Training: ', stop - start)"
   ]
  },
  {
   "cell_type": "code",
   "execution_count": 11,
   "id": "037b61ff-ac5a-43a8-9ca6-404c01b9959f",
   "metadata": {},
   "outputs": [],
   "source": [
    "y_pred_train = predict_metaimnet(model1, model2, x_th, x_train_scaled, train_data)\n",
    "y_pred_val = predict_metaimnet(model1, model2, x_th_val, x_val_scaled, val_data)\n",
    "\n",
    "train_data['damage_state_pred'] = y_pred_train.detach().view(-1).numpy()\n",
    "train_data['damage_state_class_pred'] = train_data['damage_state_pred'].round().astype(\"int\")\n",
    "\n",
    "val_data['damage_state_pred'] = y_pred_val.detach().view(-1).numpy()\n",
    "val_data['damage_state_class_pred'] = val_data['damage_state_pred'].round().astype(\"int\")"
   ]
  },
  {
   "cell_type": "markdown",
   "id": "a091b08d-203a-4f2a-a45d-c542fe76bcca",
   "metadata": {},
   "source": [
    "## Distribution of responses"
   ]
  },
  {
   "cell_type": "code",
   "execution_count": 12,
   "id": "7b17a0c0-29af-4d1a-9974-b33d01627352",
   "metadata": {
    "tags": []
   },
   "outputs": [
    {
     "data": {
      "text/html": [
       "<div>\n",
       "<style scoped>\n",
       "    .dataframe tbody tr th:only-of-type {\n",
       "        vertical-align: middle;\n",
       "    }\n",
       "\n",
       "    .dataframe tbody tr th {\n",
       "        vertical-align: top;\n",
       "    }\n",
       "\n",
       "    .dataframe thead th {\n",
       "        text-align: right;\n",
       "    }\n",
       "</style>\n",
       "<table border=\"1\" class=\"dataframe\">\n",
       "  <thead>\n",
       "    <tr style=\"text-align: right;\">\n",
       "      <th></th>\n",
       "      <th>Survived</th>\n",
       "      <th>Failed</th>\n",
       "    </tr>\n",
       "  </thead>\n",
       "  <tbody>\n",
       "    <tr>\n",
       "      <th>Survived</th>\n",
       "      <td>0.941176</td>\n",
       "      <td>0.058824</td>\n",
       "    </tr>\n",
       "    <tr>\n",
       "      <th>Failed</th>\n",
       "      <td>0.052632</td>\n",
       "      <td>0.947368</td>\n",
       "    </tr>\n",
       "  </tbody>\n",
       "</table>\n",
       "</div>"
      ],
      "text/plain": [
       "          Survived    Failed\n",
       "Survived  0.941176  0.058824\n",
       "Failed    0.052632  0.947368"
      ]
     },
     "execution_count": 12,
     "metadata": {},
     "output_type": "execute_result"
    },
    {
     "data": {
      "image/png": "[encoded data removed]",
      "text/plain": [
       "<Figure size 720x432 with 2 Axes>"
      ]
     },
     "metadata": {
      "needs_background": "light"
     },
     "output_type": "display_data"
    }
   ],
   "source": [
    "# constant for classes\n",
    "classes = ('Survived', 'Failed')\n",
    "plot_confusion(val_data, 'damage_state', 'damage_state_class_pred', classes)"
   ]
  },
  {
   "cell_type": "code",
   "execution_count": 13,
   "id": "c4ef42fa-c60c-4646-b2a5-4da91fc1a17c",
   "metadata": {},
   "outputs": [
    {
     "data": {
      "image/png": "[encoded data removed]",
      "text/plain": [
       "<Figure size 360x288 with 1 Axes>"
      ]
     },
     "metadata": {
      "needs_background": "light"
     },
     "output_type": "display_data"
    }
   ],
   "source": [
    "plot_auc_roc(val_data, 'damage_state', 'damage_state_pred')"
   ]
  },
  {
   "cell_type": "code",
   "execution_count": 14,
   "id": "c0b72bc2-480f-4234-b626-6a6fb81030da",
   "metadata": {},
   "outputs": [
    {
     "data": {
      "text/html": [
       "<div>\n",
       "<style scoped>\n",
       "    .dataframe tbody tr th:only-of-type {\n",
       "        vertical-align: middle;\n",
       "    }\n",
       "\n",
       "    .dataframe tbody tr th {\n",
       "        vertical-align: top;\n",
       "    }\n",
       "\n",
       "    .dataframe thead th {\n",
       "        text-align: right;\n",
       "    }\n",
       "</style>\n",
       "<table border=\"1\" class=\"dataframe\">\n",
       "  <thead>\n",
       "    <tr style=\"text-align: right;\">\n",
       "      <th></th>\n",
       "      <th>Survived</th>\n",
       "      <th>Failed</th>\n",
       "    </tr>\n",
       "  </thead>\n",
       "  <tbody>\n",
       "    <tr>\n",
       "      <th>Survived</th>\n",
       "      <td>0.973176</td>\n",
       "      <td>0.026824</td>\n",
       "    </tr>\n",
       "    <tr>\n",
       "      <th>Failed</th>\n",
       "      <td>0.039695</td>\n",
       "      <td>0.960305</td>\n",
       "    </tr>\n",
       "  </tbody>\n",
       "</table>\n",
       "</div>"
      ],
      "text/plain": [
       "          Survived    Failed\n",
       "Survived  0.973176  0.026824\n",
       "Failed    0.039695  0.960305"
      ]
     },
     "execution_count": 14,
     "metadata": {},
     "output_type": "execute_result"
    },
    {
     "data": {
      "image/png": "[encoded data removed]",
      "text/plain": [
       "<Figure size 720x432 with 2 Axes>"
      ]
     },
     "metadata": {
      "needs_background": "light"
     },
     "output_type": "display_data"
    }
   ],
   "source": [
    "plot_confusion(train_data, 'damage_state', 'damage_state_class_pred', classes)"
   ]
  },
  {
   "cell_type": "code",
   "execution_count": 15,
   "id": "fe085bca-37f2-416a-9411-b387a487656f",
   "metadata": {},
   "outputs": [
    {
     "data": {
      "image/png": "[encoded data removed]",
      "text/plain": [
       "<Figure size 360x288 with 1 Axes>"
      ]
     },
     "metadata": {
      "needs_background": "light"
     },
     "output_type": "display_data"
    }
   ],
   "source": [
    "plot_auc_roc(train_data, 'damage_state', 'damage_state_pred')"
   ]
  },
  {
   "cell_type": "code",
   "execution_count": 16,
   "id": "e69d7ef1-9679-41f9-ae9b-488b1da43a35",
   "metadata": {},
   "outputs": [
    {
     "data": {
      "text/plain": [
       "0.9675555555555555"
      ]
     },
     "execution_count": 16,
     "metadata": {},
     "output_type": "execute_result"
    }
   ],
   "source": [
    "accuracy_score(np.array(train_data['damage_state']), np.array(train_data['damage_state_class_pred']))"
   ]
  },
  {
   "cell_type": "markdown",
   "id": "af5b072d-b011-4ad2-bd48-100f0dd6f7f3",
   "metadata": {},
   "source": [
    "## Load in blind test data"
   ]
  },
  {
   "cell_type": "markdown",
   "id": "2ea18f53-80eb-4ed1-98c5-8ecc25416c61",
   "metadata": {},
   "source": [
    "## Make Predictions"
   ]
  },
  {
   "cell_type": "code",
   "execution_count": 17,
   "id": "2e1e7440-290b-485e-80c7-9f126377074f",
   "metadata": {},
   "outputs": [],
   "source": [
    "y_pred_test = predict_metaimnet(model1, model2, x_th_test, x_test_scaled, test_data)\n",
    "\n",
    "test_data['damage_state_pred'] = y_pred_test.detach().view(-1).numpy()\n",
    "test_data['damage_state_class_pred'] = test_data['damage_state_pred'].round().astype(\"int\")"
   ]
  },
  {
   "cell_type": "markdown",
   "id": "d8070453-31ae-4ffc-8edb-e345ab19e51b",
   "metadata": {},
   "source": [
    "## Confusion Matrix on Blind Test Data"
   ]
  },
  {
   "cell_type": "code",
   "execution_count": 18,
   "id": "d3759702-ab35-4e8a-9a35-7ddc7fc45eb1",
   "metadata": {},
   "outputs": [
    {
     "data": {
      "text/html": [
       "<div>\n",
       "<style scoped>\n",
       "    .dataframe tbody tr th:only-of-type {\n",
       "        vertical-align: middle;\n",
       "    }\n",
       "\n",
       "    .dataframe tbody tr th {\n",
       "        vertical-align: top;\n",
       "    }\n",
       "\n",
       "    .dataframe thead th {\n",
       "        text-align: right;\n",
       "    }\n",
       "</style>\n",
       "<table border=\"1\" class=\"dataframe\">\n",
       "  <thead>\n",
       "    <tr style=\"text-align: right;\">\n",
       "      <th></th>\n",
       "      <th>Survived</th>\n",
       "      <th>Failed</th>\n",
       "    </tr>\n",
       "  </thead>\n",
       "  <tbody>\n",
       "    <tr>\n",
       "      <th>Survived</th>\n",
       "      <td>0.940988</td>\n",
       "      <td>0.059012</td>\n",
       "    </tr>\n",
       "    <tr>\n",
       "      <th>Failed</th>\n",
       "      <td>0.076101</td>\n",
       "      <td>0.923899</td>\n",
       "    </tr>\n",
       "  </tbody>\n",
       "</table>\n",
       "</div>"
      ],
      "text/plain": [
       "          Survived    Failed\n",
       "Survived  0.940988  0.059012\n",
       "Failed    0.076101  0.923899"
      ]
     },
     "execution_count": 18,
     "metadata": {},
     "output_type": "execute_result"
    },
    {
     "data": {
      "image/png": "[encoded data removed]",
      "text/plain": [
       "<Figure size 720x432 with 2 Axes>"
      ]
     },
     "metadata": {
      "needs_background": "light"
     },
     "output_type": "display_data"
    }
   ],
   "source": [
    "plot_confusion(test_data, 'damage_state', 'damage_state_class_pred', classes)"
   ]
  },
  {
   "cell_type": "code",
   "execution_count": 19,
   "id": "41b27aa7-f09e-4d84-adf6-15732fd031de",
   "metadata": {},
   "outputs": [
    {
     "data": {
      "image/png": "[encoded data removed]",
      "text/plain": [
       "<Figure size 360x288 with 1 Axes>"
      ]
     },
     "metadata": {
      "needs_background": "light"
     },
     "output_type": "display_data"
    }
   ],
   "source": [
    "plot_auc_roc(test_data, 'damage_state', 'damage_state_pred')"
   ]
  },
  {
   "cell_type": "code",
   "execution_count": 20,
   "id": "4b50837d-582f-4471-89a6-9b4e83c5fae3",
   "metadata": {},
   "outputs": [
    {
     "data": {
      "text/plain": [
       "0.9336059626673703"
      ]
     },
     "execution_count": 20,
     "metadata": {},
     "output_type": "execute_result"
    }
   ],
   "source": [
    "accuracy_score(np.array(test_data['damage_state']), np.array(test_data['damage_state_class_pred']))"
   ]
  },
  {
   "cell_type": "code",
   "execution_count": 21,
   "id": "d16bb2c1-3741-4cfa-a843-3cd4968248a4",
   "metadata": {},
   "outputs": [
    {
     "data": {
      "text/plain": [
       "0.9790114327514273"
      ]
     },
     "execution_count": 21,
     "metadata": {},
     "output_type": "execute_result"
    }
   ],
   "source": [
    "roc_auc_score(np.array(test_data['damage_state']), np.array(test_data['damage_state_pred']))"
   ]
  },
  {
   "cell_type": "markdown",
   "id": "5b1ff3a4-adbe-4823-acb3-839a15d3b11d",
   "metadata": {},
   "source": [
    "## Confusion Matrix on Combined Train, Validation, and Test Data"
   ]
  },
  {
   "cell_type": "code",
   "execution_count": 22,
   "id": "6e31f900-b43b-414a-8959-4f71bcd32d88",
   "metadata": {},
   "outputs": [
    {
     "data": {
      "text/html": [
       "<div>\n",
       "<style scoped>\n",
       "    .dataframe tbody tr th:only-of-type {\n",
       "        vertical-align: middle;\n",
       "    }\n",
       "\n",
       "    .dataframe tbody tr th {\n",
       "        vertical-align: top;\n",
       "    }\n",
       "\n",
       "    .dataframe thead th {\n",
       "        text-align: right;\n",
       "    }\n",
       "</style>\n",
       "<table border=\"1\" class=\"dataframe\">\n",
       "  <thead>\n",
       "    <tr style=\"text-align: right;\">\n",
       "      <th></th>\n",
       "      <th>Survived</th>\n",
       "      <th>Failed</th>\n",
       "    </tr>\n",
       "  </thead>\n",
       "  <tbody>\n",
       "    <tr>\n",
       "      <th>Survived</th>\n",
       "      <td>0.944343</td>\n",
       "      <td>0.055657</td>\n",
       "    </tr>\n",
       "    <tr>\n",
       "      <th>Failed</th>\n",
       "      <td>0.071959</td>\n",
       "      <td>0.928041</td>\n",
       "    </tr>\n",
       "  </tbody>\n",
       "</table>\n",
       "</div>"
      ],
      "text/plain": [
       "          Survived    Failed\n",
       "Survived  0.944343  0.055657\n",
       "Failed    0.071959  0.928041"
      ]
     },
     "execution_count": 22,
     "metadata": {},
     "output_type": "execute_result"
    },
    {
     "data": {
      "image/png": "[encoded data removed]",
      "text/plain": [
       "<Figure size 720x432 with 2 Axes>"
      ]
     },
     "metadata": {
      "needs_background": "light"
     },
     "output_type": "display_data"
    }
   ],
   "source": [
    "all_data = pd.concat([train_data, val_data, test_data]).reset_index(drop = True)\n",
    "plot_confusion(all_data, 'damage_state', 'damage_state_class_pred', classes)"
   ]
  },
  {
   "cell_type": "code",
   "execution_count": 23,
   "id": "d7cd62f5-c86b-4c92-9de7-dc7e5b0528aa",
   "metadata": {},
   "outputs": [
    {
     "data": {
      "image/png": "[encoded data removed]",
      "text/plain": [
       "<Figure size 360x288 with 1 Axes>"
      ]
     },
     "metadata": {
      "needs_background": "light"
     },
     "output_type": "display_data"
    }
   ],
   "source": [
    "plot_auc_roc(all_data, 'damage_state', 'damage_state_pred')"
   ]
  },
  {
   "cell_type": "code",
   "execution_count": 24,
   "id": "05b106d2-b1ac-4f92-8afa-0480467ff277",
   "metadata": {},
   "outputs": [],
   "source": [
    "# del train_data, val_data, test_data"
   ]
  },
  {
   "cell_type": "markdown",
   "id": "7186d2db-ec97-4922-abfe-a3cca5208956",
   "metadata": {},
   "source": [
    "## Compare Fragilities"
   ]
  },
  {
   "cell_type": "code",
   "execution_count": 25,
   "id": "9f1a01cf-5284-4492-99b6-ef30283dc5fb",
   "metadata": {},
   "outputs": [],
   "source": [
    "fragility_df_high_fidelity = develop_fragility_model_stripe(predictors_all, 'pga', 'damage_state', bin_width = 0.1, max_im = 1.5)\n",
    "fragility_df_pred = develop_fragility_model_stripe(all_data, 'pga', 'damage_state_class_pred', bin_width = 0.1, max_im = 1.5)"
   ]
  },
  {
   "cell_type": "code",
   "execution_count": 26,
   "id": "d86c8ce3-3d2d-43aa-81cd-6951adc51d86",
   "metadata": {},
   "outputs": [
    {
     "data": {
      "text/html": [
       "<div>\n",
       "<style scoped>\n",
       "    .dataframe tbody tr th:only-of-type {\n",
       "        vertical-align: middle;\n",
       "    }\n",
       "\n",
       "    .dataframe tbody tr th {\n",
       "        vertical-align: top;\n",
       "    }\n",
       "\n",
       "    .dataframe thead th {\n",
       "        text-align: right;\n",
       "    }\n",
       "</style>\n",
       "<table border=\"1\" class=\"dataframe\">\n",
       "  <thead>\n",
       "    <tr style=\"text-align: right;\">\n",
       "      <th></th>\n",
       "      <th>IM</th>\n",
       "      <th>Probability</th>\n",
       "    </tr>\n",
       "  </thead>\n",
       "  <tbody>\n",
       "    <tr>\n",
       "      <th>0</th>\n",
       "      <td>0.05</td>\n",
       "      <td>0.0005</td>\n",
       "    </tr>\n",
       "    <tr>\n",
       "      <th>1</th>\n",
       "      <td>0.15</td>\n",
       "      <td>0.061758</td>\n",
       "    </tr>\n",
       "    <tr>\n",
       "      <th>2</th>\n",
       "      <td>0.25</td>\n",
       "      <td>0.186841</td>\n",
       "    </tr>\n",
       "    <tr>\n",
       "      <th>3</th>\n",
       "      <td>0.35</td>\n",
       "      <td>0.338112</td>\n",
       "    </tr>\n",
       "    <tr>\n",
       "      <th>4</th>\n",
       "      <td>0.45</td>\n",
       "      <td>0.455596</td>\n",
       "    </tr>\n",
       "    <tr>\n",
       "      <th>5</th>\n",
       "      <td>0.55</td>\n",
       "      <td>0.516851</td>\n",
       "    </tr>\n",
       "    <tr>\n",
       "      <th>6</th>\n",
       "      <td>0.65</td>\n",
       "      <td>0.562963</td>\n",
       "    </tr>\n",
       "    <tr>\n",
       "      <th>7</th>\n",
       "      <td>0.75</td>\n",
       "      <td>0.594659</td>\n",
       "    </tr>\n",
       "    <tr>\n",
       "      <th>8</th>\n",
       "      <td>0.85</td>\n",
       "      <td>0.625255</td>\n",
       "    </tr>\n",
       "    <tr>\n",
       "      <th>9</th>\n",
       "      <td>0.95</td>\n",
       "      <td>0.660352</td>\n",
       "    </tr>\n",
       "    <tr>\n",
       "      <th>10</th>\n",
       "      <td>1.05</td>\n",
       "      <td>0.694001</td>\n",
       "    </tr>\n",
       "    <tr>\n",
       "      <th>11</th>\n",
       "      <td>1.15</td>\n",
       "      <td>0.720333</td>\n",
       "    </tr>\n",
       "    <tr>\n",
       "      <th>12</th>\n",
       "      <td>1.25</td>\n",
       "      <td>0.742101</td>\n",
       "    </tr>\n",
       "    <tr>\n",
       "      <th>13</th>\n",
       "      <td>1.35</td>\n",
       "      <td>0.754453</td>\n",
       "    </tr>\n",
       "    <tr>\n",
       "      <th>14</th>\n",
       "      <td>1.45</td>\n",
       "      <td>0.753119</td>\n",
       "    </tr>\n",
       "  </tbody>\n",
       "</table>\n",
       "</div>"
      ],
      "text/plain": [
       "      IM Probability\n",
       "0   0.05      0.0005\n",
       "1   0.15    0.061758\n",
       "2   0.25    0.186841\n",
       "3   0.35    0.338112\n",
       "4   0.45    0.455596\n",
       "5   0.55    0.516851\n",
       "6   0.65    0.562963\n",
       "7   0.75    0.594659\n",
       "8   0.85    0.625255\n",
       "9   0.95    0.660352\n",
       "10  1.05    0.694001\n",
       "11  1.15    0.720333\n",
       "12  1.25    0.742101\n",
       "13  1.35    0.754453\n",
       "14  1.45    0.753119"
      ]
     },
     "execution_count": 26,
     "metadata": {},
     "output_type": "execute_result"
    }
   ],
   "source": [
    "fragility_df_pred"
   ]
  },
  {
   "cell_type": "code",
   "execution_count": 27,
   "id": "1cea67a8-0ef2-4345-b958-7b95e9f06ea5",
   "metadata": {},
   "outputs": [
    {
     "data": {
      "text/html": [
       "<div>\n",
       "<style scoped>\n",
       "    .dataframe tbody tr th:only-of-type {\n",
       "        vertical-align: middle;\n",
       "    }\n",
       "\n",
       "    .dataframe tbody tr th {\n",
       "        vertical-align: top;\n",
       "    }\n",
       "\n",
       "    .dataframe thead th {\n",
       "        text-align: right;\n",
       "    }\n",
       "</style>\n",
       "<table border=\"1\" class=\"dataframe\">\n",
       "  <thead>\n",
       "    <tr style=\"text-align: right;\">\n",
       "      <th></th>\n",
       "      <th>IM</th>\n",
       "      <th>Probability</th>\n",
       "    </tr>\n",
       "  </thead>\n",
       "  <tbody>\n",
       "    <tr>\n",
       "      <th>0</th>\n",
       "      <td>0.05</td>\n",
       "      <td>0.00225</td>\n",
       "    </tr>\n",
       "    <tr>\n",
       "      <th>1</th>\n",
       "      <td>0.15</td>\n",
       "      <td>0.080135</td>\n",
       "    </tr>\n",
       "    <tr>\n",
       "      <th>2</th>\n",
       "      <td>0.25</td>\n",
       "      <td>0.198895</td>\n",
       "    </tr>\n",
       "    <tr>\n",
       "      <th>3</th>\n",
       "      <td>0.35</td>\n",
       "      <td>0.339127</td>\n",
       "    </tr>\n",
       "    <tr>\n",
       "      <th>4</th>\n",
       "      <td>0.45</td>\n",
       "      <td>0.438068</td>\n",
       "    </tr>\n",
       "    <tr>\n",
       "      <th>5</th>\n",
       "      <td>0.55</td>\n",
       "      <td>0.500944</td>\n",
       "    </tr>\n",
       "    <tr>\n",
       "      <th>6</th>\n",
       "      <td>0.65</td>\n",
       "      <td>0.558351</td>\n",
       "    </tr>\n",
       "    <tr>\n",
       "      <th>7</th>\n",
       "      <td>0.75</td>\n",
       "      <td>0.592582</td>\n",
       "    </tr>\n",
       "    <tr>\n",
       "      <th>8</th>\n",
       "      <td>0.85</td>\n",
       "      <td>0.629641</td>\n",
       "    </tr>\n",
       "    <tr>\n",
       "      <th>9</th>\n",
       "      <td>0.95</td>\n",
       "      <td>0.655155</td>\n",
       "    </tr>\n",
       "    <tr>\n",
       "      <th>10</th>\n",
       "      <td>1.05</td>\n",
       "      <td>0.691516</td>\n",
       "    </tr>\n",
       "    <tr>\n",
       "      <th>11</th>\n",
       "      <td>1.15</td>\n",
       "      <td>0.714286</td>\n",
       "    </tr>\n",
       "    <tr>\n",
       "      <th>12</th>\n",
       "      <td>1.25</td>\n",
       "      <td>0.737362</td>\n",
       "    </tr>\n",
       "    <tr>\n",
       "      <th>13</th>\n",
       "      <td>1.35</td>\n",
       "      <td>0.749788</td>\n",
       "    </tr>\n",
       "    <tr>\n",
       "      <th>14</th>\n",
       "      <td>1.45</td>\n",
       "      <td>0.774064</td>\n",
       "    </tr>\n",
       "  </tbody>\n",
       "</table>\n",
       "</div>"
      ],
      "text/plain": [
       "      IM Probability\n",
       "0   0.05     0.00225\n",
       "1   0.15    0.080135\n",
       "2   0.25    0.198895\n",
       "3   0.35    0.339127\n",
       "4   0.45    0.438068\n",
       "5   0.55    0.500944\n",
       "6   0.65    0.558351\n",
       "7   0.75    0.592582\n",
       "8   0.85    0.629641\n",
       "9   0.95    0.655155\n",
       "10  1.05    0.691516\n",
       "11  1.15    0.714286\n",
       "12  1.25    0.737362\n",
       "13  1.35    0.749788\n",
       "14  1.45    0.774064"
      ]
     },
     "execution_count": 27,
     "metadata": {},
     "output_type": "execute_result"
    }
   ],
   "source": [
    "fragility_df_high_fidelity"
   ]
  },
  {
   "cell_type": "code",
   "execution_count": 28,
   "id": "9fb55b0a-a081-4ead-bfd7-3f179d5aa020",
   "metadata": {},
   "outputs": [
    {
     "data": {
      "image/png": "[encoded data removed]",
      "text/plain": [
       "<Figure size 432x360 with 1 Axes>"
      ]
     },
     "metadata": {
      "needs_background": "light"
     },
     "output_type": "display_data"
    },
    {
     "name": "stdout",
     "output_type": "stream",
     "text": [
      " Mean error = 0.010472, Max error = 0.020945\n"
     ]
    }
   ],
   "source": [
    "fig, ax = plt.subplots(1,1, figsize = (6, 5))\n",
    "\n",
    "error_mean = (((fragility_df_high_fidelity['Probability'] - fragility_df_pred['Probability'])**2).mean())**0.5\n",
    "error_max = (((fragility_df_high_fidelity['Probability'] - fragility_df_pred['Probability'])**2).max())**0.5\n",
    "\n",
    "ax.plot(np.array(fragility_df_high_fidelity['IM']), np.array(fragility_df_high_fidelity['Probability']), '*-', label = 'High Fidelity Model')\n",
    "ax.plot(np.array(fragility_df_pred['IM']), np.array(fragility_df_pred['Probability']), 'x-', label = 'Meta-IMNet Surrogate Model')\n",
    "ax.legend()\n",
    "ax.set_xlabel('PGA (g)', fontsize = 18)\n",
    "ax.set_ylabel('Probability of Collapse', fontsize = 18)\n",
    "ax.set_title('Collapse Fragility - Actual v/s TradNet', fontsize = 18)\n",
    "ax.grid()\n",
    "\n",
    "plt.tight_layout()\n",
    "plt.show()\n",
    "\n",
    "print(' Mean error = {}, Max error = {}'.format(round(error_mean,6), round(error_max,6)))"
   ]
  },
  {
   "cell_type": "code",
   "execution_count": 29,
   "id": "3043eac3-ace0-4b8c-8f32-981f68c31cea",
   "metadata": {},
   "outputs": [],
   "source": [
    "# fragility_df_pred.to_parquet('frag_df5_metanet_new.parquet', engine = 'pyarrow')"
   ]
  },
  {
   "cell_type": "code",
   "execution_count": null,
   "id": "0b3a1f15-e4e0-4d9b-960a-3ac7de09a913",
   "metadata": {},
   "outputs": [],
   "source": []
  }
 ],
 "metadata": {
  "IMAGE_NAME": "taccsciapps/ds-nb-img:base-0.2.1",
  "UUID": "283fc482-c5f0-11ee-808f-62bc2f334ef5",
  "kernelspec": {
   "display_name": "Python 3 (ipykernel)",
   "language": "python",
   "name": "python3"
  },
  "language_info": {
   "codemirror_mode": {
    "name": "ipython",
    "version": 3
   },
   "file_extension": ".py",
   "mimetype": "text/x-python",
   "name": "python",
   "nbconvert_exporter": "python",
   "pygments_lexer": "ipython3",
   "version": "3.9.10"
  }
 },
 "nbformat": 4,
 "nbformat_minor": 5
}
